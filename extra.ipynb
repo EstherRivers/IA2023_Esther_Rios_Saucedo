{
 "cells": [
  {
   "cell_type": "code",
   "execution_count": 1,
   "id": "1750fe1a-9bef-42a6-9a97-503e9e840797",
   "metadata": {},
   "outputs": [],
   "source": [
    "import cv2\n",
    "import os\n",
    "\n",
    "# Ruta del video de entrada\n",
    "video_path = 'goo.mp4'\n",
    "\n",
    "# Carpeta de destino para las imágenes\n",
    "output_folder = r'C:\\Users\\Esther RS\\florecitas\\flower_photos\\ros'\n",
    "if not os.path.exists(output_folder):\n",
    "    os.makedirs(output_folder)\n",
    "\n",
    "# Abre el video\n",
    "cap = cv2.VideoCapture(video_path)\n",
    "\n",
    "# Inicializa un contador para enumerar las imágenes\n",
    "frame_count = 0\n",
    "\n",
    "while cap.isOpened():\n",
    "    # Lee el siguiente fotograma del video\n",
    "    ret, frame = cap.read()\n",
    "\n",
    "    # Verifica si se ha llegado al final del video\n",
    "    if not ret:\n",
    "        break\n",
    "\n",
    "    # Redimensiona el fotograma a 150x150 píxeles\n",
    "    resized_frame = cv2.resize(frame, (150, 150))\n",
    "\n",
    "    # Guarda el fotograma en la carpeta de destino\n",
    "    output_path = os.path.join(output_folder, f\"frame_{frame_count}.png\")\n",
    "    cv2.imwrite(output_path, resized_frame)\n",
    "\n",
    "    print(f\"Guardando frame {frame_count}\")\n",
    "\n",
    "    # Incrementa el contador\n",
    "    frame_count += 1\n",
    "\n",
    "# Libera los recursos\n",
    "cap.release()\n",
    "cv2.destroyAllWindows()\n",
    "\n"
   ]
  },
  {
   "cell_type": "code",
   "execution_count": null,
   "id": "feaab345-989d-4875-922c-4535cd63b6ab",
   "metadata": {},
   "outputs": [],
   "source": []
  }
 ],
 "metadata": {
  "kernelspec": {
   "display_name": "Python 3 (ipykernel)",
   "language": "python",
   "name": "python3"
  },
  "language_info": {
   "codemirror_mode": {
    "name": "ipython",
    "version": 3
   },
   "file_extension": ".py",
   "mimetype": "text/x-python",
   "name": "python",
   "nbconvert_exporter": "python",
   "pygments_lexer": "ipython3",
   "version": "3.11.4"
  }
 },
 "nbformat": 4,
 "nbformat_minor": 5
}
